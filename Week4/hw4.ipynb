{
  "nbformat": 4,
  "nbformat_minor": 0,
  "metadata": {
    "colab": {
      "provenance": []
    },
    "kernelspec": {
      "name": "python3",
      "display_name": "Python 3"
    },
    "language_info": {
      "name": "python"
    }
  },
  "cells": [
    {
      "cell_type": "markdown",
      "source": [
        "##### In a practical, we saw the scs function (copied below along with overlap) for finding the shortest common superstring of a set of strings."
      ],
      "metadata": {
        "id": "wp_-HYnUB6WP"
      }
    },
    {
      "cell_type": "code",
      "execution_count": 1,
      "metadata": {
        "id": "8b9RQ1cOBncb"
      },
      "outputs": [],
      "source": [
        "def overlap(a, b, min_length=3):\n",
        "    \"\"\" Return length of longest suffix of 'a' matching\n",
        "        a prefix of 'b' that is at least 'min_length'\n",
        "        characters long.  If no such overlap exists,\n",
        "        return 0. \"\"\"\n",
        "    start = 0  # start all the way at the left\n",
        "    while True:\n",
        "        start = a.find(b[:min_length], start)  # look for b's suffx in a\n",
        "        if start == -1:  # no more occurrences to right\n",
        "            return 0\n",
        "        # found occurrence; check for full suffix/prefix match\n",
        "        if b.startswith(a[start:]):\n",
        "            return len(a)-start\n",
        "        start += 1  # move just past previous match\n",
        "\n",
        "import itertools\n",
        "\n",
        "def scs(ss):\n",
        "    \"\"\" Returns shortest common superstring of given\n",
        "        strings, which must be the same length \"\"\"\n",
        "    shortest_sup = None\n",
        "    for ssperm in itertools.permutations(ss):\n",
        "        sup = ssperm[0]  # superstring starts as first string\n",
        "        for i in range(len(ss)-1):\n",
        "            # overlap adjacent strings A and B in the permutation\n",
        "            olen = overlap(ssperm[i], ssperm[i+1], min_length=1)\n",
        "            # add non-overlapping portion of B to superstring\n",
        "            sup += ssperm[i+1][olen:]\n",
        "        if shortest_sup is None or len(sup) < len(shortest_sup):\n",
        "            shortest_sup = sup  # found shorter superstring\n",
        "    return shortest_sup  # return shortest"
      ]
    },
    {
      "cell_type": "markdown",
      "source": [
        "##### Q1: What is the length of the shortest common superstring of the following strings? CCT, CTT, TGC, TGG, GAT, ATT"
      ],
      "metadata": {
        "id": "-IWZZxoqCMLx"
      }
    },
    {
      "cell_type": "code",
      "source": [
        "ss = ['CCT', 'CTT', 'TGC', 'TGG', 'GAT', 'ATT']\n",
        "print(len(scs(ss)))"
      ],
      "metadata": {
        "colab": {
          "base_uri": "https://localhost:8080/"
        },
        "id": "TRqqRT53CjHe",
        "outputId": "b97a372a-fab3-42d8-aa40-17ce2cd7b4f4"
      },
      "execution_count": 2,
      "outputs": [
        {
          "output_type": "stream",
          "name": "stdout",
          "text": [
            "11\n"
          ]
        }
      ]
    },
    {
      "cell_type": "markdown",
      "source": [
        "##### Q2: How many different shortest common superstrings are there for the input strings given in the previous question?\n",
        "\n",
        "##### Hint 1: You can modify the scs function to keep track of this."
      ],
      "metadata": {
        "id": "lPM9mTvsDJ6w"
      }
    },
    {
      "cell_type": "code",
      "source": [
        "def scs(ss):\n",
        "    \"\"\" Returns shortest common superstring of given\n",
        "        strings, which must be the same length \"\"\"\n",
        "    shortest_sup = None\n",
        "    diff = []\n",
        "    for ssperm in itertools.permutations(ss):\n",
        "        sup = ssperm[0]  # superstring starts as first string\n",
        "        for i in range(len(ss)-1):\n",
        "            # overlap adjacent strings A and B in the permutation\n",
        "            olen = overlap(ssperm[i], ssperm[i+1], min_length=1)\n",
        "            # add non-overlapping portion of B to superstring\n",
        "            sup += ssperm[i+1][olen:]\n",
        "        if shortest_sup is None or len(sup) < len(shortest_sup):\n",
        "            shortest_sup = sup  # found shorter superstring\n",
        "            diff = []\n",
        "            diff.append(sup)\n",
        "        elif len(sup) == len(shortest_sup):\n",
        "            diff.append(sup)\n",
        "    return shortest_sup, diff  # return shortest"
      ],
      "metadata": {
        "id": "zZHG-UtRDR9z"
      },
      "execution_count": 10,
      "outputs": []
    },
    {
      "cell_type": "code",
      "source": [
        "ss = ['CCT', 'CTT', 'TGC', 'TGG', 'GAT', 'ATT']\n",
        "_, diff = scs(ss)\n",
        "print(diff)\n",
        "print(len(diff))"
      ],
      "metadata": {
        "colab": {
          "base_uri": "https://localhost:8080/"
        },
        "id": "mdtYcF-4DqRm",
        "outputId": "c5641a06-b084-41c9-a091-1fd4dfae83d2"
      },
      "execution_count": 12,
      "outputs": [
        {
          "output_type": "stream",
          "name": "stdout",
          "text": [
            "['CCTTGGATTGC', 'TGCCTTGGATT', 'TGGATTGCCTT', 'GATTGCCTTGG']\n",
            "4\n"
          ]
        }
      ]
    },
    {
      "cell_type": "code",
      "source": [
        "!wget --no-check https://d28rh4a8wq0iu5.cloudfront.net/ads1/data/ads1_week4_reads.fq"
      ],
      "metadata": {
        "colab": {
          "base_uri": "https://localhost:8080/"
        },
        "id": "bXIf7cV8Fo7-",
        "outputId": "b60889d5-1f05-4a93-c3fa-55e7b02718bd"
      },
      "execution_count": 13,
      "outputs": [
        {
          "output_type": "stream",
          "name": "stdout",
          "text": [
            "--2023-12-23 05:12:14--  https://d28rh4a8wq0iu5.cloudfront.net/ads1/data/ads1_week4_reads.fq\n",
            "Resolving d28rh4a8wq0iu5.cloudfront.net (d28rh4a8wq0iu5.cloudfront.net)... 54.230.209.99, 54.230.209.53, 54.230.209.231, ...\n",
            "Connecting to d28rh4a8wq0iu5.cloudfront.net (d28rh4a8wq0iu5.cloudfront.net)|54.230.209.99|:443... connected.\n",
            "HTTP request sent, awaiting response... 200 OK\n",
            "Length: 395781 (387K) [video/m2ts]\n",
            "Saving to: ‘ads1_week4_reads.fq’\n",
            "\n",
            "ads1_week4_reads.fq 100%[===================>] 386.50K  --.-KB/s    in 0.05s   \n",
            "\n",
            "2023-12-23 05:12:14 (8.25 MB/s) - ‘ads1_week4_reads.fq’ saved [395781/395781]\n",
            "\n"
          ]
        }
      ]
    },
    {
      "cell_type": "code",
      "source": [
        "def readFastq(filename):\n",
        "    sequences = []\n",
        "    qualities = []\n",
        "    with open(filename) as fh:\n",
        "        while True:\n",
        "            fh.readline()  # skip name line\n",
        "            seq = fh.readline().rstrip()  # read base sequence\n",
        "            fh.readline()  # skip placeholder line\n",
        "            qual = fh.readline().rstrip() # base quality line\n",
        "            if len(seq) == 0:\n",
        "                break\n",
        "            sequences.append(seq)\n",
        "            qualities.append(qual)\n",
        "    return sequences, qualities"
      ],
      "metadata": {
        "id": "M-X49qBbF9Ne"
      },
      "execution_count": 26,
      "outputs": []
    },
    {
      "cell_type": "code",
      "source": [
        "reads, _ = readFastq('ads1_week4_reads.fq')"
      ],
      "metadata": {
        "id": "ANwknSvBGCOJ"
      },
      "execution_count": 27,
      "outputs": []
    },
    {
      "cell_type": "markdown",
      "source": [
        "##### Q3: How many As are there in the full, assembled genome?\n",
        "\n",
        "##### Hint: the virus genome you are assembling is exactly 15,894 bases long"
      ],
      "metadata": {
        "id": "OLNhnOqKFjY7"
      }
    },
    {
      "cell_type": "code",
      "source": [
        "import operator\n",
        "\n",
        "def smart_overlap_map(reads, k):\n",
        "    olaps = {}\n",
        "    result = {}\n",
        "    for read in reads:\n",
        "        for i in range(len(read)-k+1):\n",
        "            if read[i:i+k] not in olaps:\n",
        "                olaps[read[i:i+k]] = [read]\n",
        "            else:\n",
        "                olaps[read[i:i+k]].append(read)\n",
        "\n",
        "    count = 0\n",
        "    for read in reads:\n",
        "        read_suffix = read[-k:]\n",
        "        for possible_read in olaps[read_suffix]:\n",
        "            if possible_read != read:\n",
        "                olen = overlap(read, possible_read, k)\n",
        "                if olen > 0:\n",
        "                    count += 1\n",
        "                    result[(read, possible_read)] = olen\n",
        "\n",
        "    return result, count\n",
        "\n",
        "\n",
        "def pick_maximal_overlap(reads, k):\n",
        "    \"\"\" Return a pair of reads from the list with a\n",
        "        maximal suffix/prefix overlap >= k.  Returns\n",
        "        overlap length 0 if there are no such overlaps.\"\"\"\n",
        "    reada, readb = None, None\n",
        "    best_olen = 0\n",
        "    for a, b in itertools.permutations(reads, 2):\n",
        "        olen = overlap(a, b, min_length=k)\n",
        "        if olen > best_olen:\n",
        "            reada, readb = a, b\n",
        "            best_olen = olen\n",
        "    return reada, readb, best_olen\n",
        "\n",
        "\n",
        "def greedy_scs(reads, k):\n",
        "    \"\"\" Greedy shortest-common-superstring merge.\n",
        "        Repeat until no edges (overlaps of length >= k)\n",
        "        remain. \"\"\"\n",
        "    pairs_olen, pairs_count = smart_overlap_map(reads, k)\n",
        "    sorted_pairs_olen = sorted(pairs_olen.items(), key=operator.itemgetter(1), reverse=True)\n",
        "    read_a, read_b, olen = sorted_pairs_olen[0][0][0], sorted_pairs_olen[0][0][1], sorted_pairs_olen[0][1]\n",
        "    while olen > 0:\n",
        "        reads.remove(read_a)\n",
        "        reads.remove(read_b)\n",
        "        reads.append(read_a + read_b[olen:])\n",
        "        pairs_olen, pairs_count = smart_overlap_map(reads, k)\n",
        "        if pairs_olen != {}:\n",
        "            sorted_pairs_olen = sorted(pairs_olen.items(), key=operator.itemgetter(1), reverse=True)\n",
        "            read_a, read_b, olen = sorted_pairs_olen[0][0][0], sorted_pairs_olen[0][0][1], sorted_pairs_olen[0][1]\n",
        "        else:\n",
        "            read_a, read_b, olen = pick_maximal_overlap(reads, k)\n",
        "    return ''.join(reads)"
      ],
      "metadata": {
        "id": "S5GIHorCF3p0"
      },
      "execution_count": 28,
      "outputs": []
    },
    {
      "cell_type": "code",
      "source": [
        "genome = greedy_scs(reads, 10)\n",
        "print(\"Number of As in the assembled genome:\", genome.count('A'))\n",
        "print(\"Number of Ts in the assembled genome:\", genome.count('T'))"
      ],
      "metadata": {
        "colab": {
          "base_uri": "https://localhost:8080/"
        },
        "id": "R1nbNsKaGog-",
        "outputId": "64472be0-9f07-4c12-d745-11cdc2c1a4cc"
      },
      "execution_count": 29,
      "outputs": [
        {
          "output_type": "stream",
          "name": "stdout",
          "text": [
            "Number of As in the assembled genome: 4633\n",
            "Number of Ts in the assembled genome: 3723\n"
          ]
        }
      ]
    }
  ]
}
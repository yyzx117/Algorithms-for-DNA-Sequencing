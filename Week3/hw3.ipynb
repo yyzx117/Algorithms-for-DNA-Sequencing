{
  "nbformat": 4,
  "nbformat_minor": 0,
  "metadata": {
    "colab": {
      "provenance": []
    },
    "kernelspec": {
      "name": "python3",
      "display_name": "Python 3"
    },
    "language_info": {
      "name": "python"
    }
  },
  "cells": [
    {
      "cell_type": "code",
      "execution_count": 1,
      "metadata": {
        "colab": {
          "base_uri": "https://localhost:8080/"
        },
        "id": "q2SZTctrqzYi",
        "outputId": "dfa6fb27-42f3-4d8e-faab-88222982d8b1"
      },
      "outputs": [
        {
          "output_type": "stream",
          "name": "stdout",
          "text": [
            "--2023-12-22 08:37:13--  https://d28rh4a8wq0iu5.cloudfront.net/ads1/data/chr1.GRCh38.excerpt.fasta\n",
            "Resolving d28rh4a8wq0iu5.cloudfront.net (d28rh4a8wq0iu5.cloudfront.net)... 54.230.209.153, 54.230.209.231, 54.230.209.99, ...\n",
            "Connecting to d28rh4a8wq0iu5.cloudfront.net (d28rh4a8wq0iu5.cloudfront.net)|54.230.209.153|:443... connected.\n",
            "HTTP request sent, awaiting response... 200 OK\n",
            "Length: 810105 (791K) [application/octet-stream]\n",
            "Saving to: ‘chr1.GRCh38.excerpt.fasta’\n",
            "\n",
            "chr1.GRCh38.excerpt 100%[===================>] 791.12K  --.-KB/s    in 0.07s   \n",
            "\n",
            "2023-12-22 08:37:13 (10.8 MB/s) - ‘chr1.GRCh38.excerpt.fasta’ saved [810105/810105]\n",
            "\n"
          ]
        }
      ],
      "source": [
        "!wget --no-check https://d28rh4a8wq0iu5.cloudfront.net/ads1/data/chr1.GRCh38.excerpt.fasta"
      ]
    },
    {
      "cell_type": "code",
      "source": [
        "def readGenome(filename):\n",
        "    genome = ''\n",
        "    with open(filename, 'r') as f:\n",
        "        for line in f:\n",
        "            # ignore header line with genome information\n",
        "            if not line[0] == '>':\n",
        "                genome += line.rstrip()\n",
        "    return genome\n",
        "genome = readGenome(\"chr1.GRCh38.excerpt.fasta\")"
      ],
      "metadata": {
        "id": "qbbNvbpTrBDG"
      },
      "execution_count": 2,
      "outputs": []
    },
    {
      "cell_type": "markdown",
      "source": [
        "##### Q1: Question 1\n",
        "What is the edit distance of the best match between pattern\n",
        "GCTGATCGATCGTACG and the excerpt of human chromosome 1?  (Don't consider reverse complements.)"
      ],
      "metadata": {
        "id": "EAwTpM-urIhj"
      }
    },
    {
      "cell_type": "code",
      "source": [
        "def editDistance(x, y):\n",
        "    # Create distance matrix\n",
        "    D = []\n",
        "    for i in range(len(x)+1):\n",
        "        D.append([0]*(len(y)+1))\n",
        "    # Initialize first row and column of matrix\n",
        "    for i in range(len(x)+1):\n",
        "        D[i][0] = i\n",
        "    for i in range(len(y)+1):\n",
        "        D[0][i] = i\n",
        "    # Fill in the rest of the matrix\n",
        "    for i in range(1, len(x)+1):\n",
        "        for j in range(1, len(y)+1):\n",
        "            distHor = D[i][j-1] + 1\n",
        "            distVer = D[i-1][j] + 1\n",
        "            if x[i-1] == y[j-1]:\n",
        "                distDiag = D[i-1][j-1]\n",
        "            else:\n",
        "                distDiag = D[i-1][j-1] + 1\n",
        "            D[i][j] = min(distHor, distVer, distDiag)\n",
        "    # Edit distance is the value in the bottom right corner of the matrix\n",
        "    return D[-1][-1]\n"
      ],
      "metadata": {
        "id": "5UupPbKwrEbv"
      },
      "execution_count": 3,
      "outputs": []
    },
    {
      "cell_type": "code",
      "source": [
        "def bestApproximateMatchEditDistance(p, t):\n",
        "    \"\"\"Returns the edit distance between two strings, p and t\"\"\"\n",
        "    # Create distance matrix\n",
        "    D = []\n",
        "    for i in range(len(p)+1):\n",
        "        D.append([0]*(len(t)+1))\n",
        "    for i in range(len(p)+1):\n",
        "        D[i][0] = i\n",
        "\n",
        "    for i in range(1, len(p)+1):\n",
        "        for j in range(1, len(t)+1):\n",
        "            distHor = D[i][j-1] + 1\n",
        "            distVer = D[i-1][j] + 1\n",
        "            if p[i-1] == t[j-1]:\n",
        "                distDiag = D[i-1][j-1]\n",
        "            else:\n",
        "                distDiag = D[i-1][j-1] + 1\n",
        "            D[i][j] = min(distHor, distVer, distDiag)\n",
        "\n",
        "    return min(D[-1])"
      ],
      "metadata": {
        "id": "nXo6nTB-yIKX"
      },
      "execution_count": 18,
      "outputs": []
    },
    {
      "cell_type": "code",
      "source": [
        "p = 'GCTGATCGATCGTACG'\n",
        "t = genome\n",
        "#print(editDistance(p, t))\n",
        "print(bestApproximateMatchEditDistance(p, t))"
      ],
      "metadata": {
        "colab": {
          "base_uri": "https://localhost:8080/"
        },
        "id": "ntrU1daQscvg",
        "outputId": "272bbf0a-2f95-4d73-d175-4a64f345dfa8"
      },
      "execution_count": 21,
      "outputs": [
        {
          "output_type": "stream",
          "name": "stdout",
          "text": [
            "3\n"
          ]
        }
      ]
    },
    {
      "cell_type": "markdown",
      "source": [
        "##### Q2: What is the edit distance of the best match between pattern GATTTACCAGATTGAG and the excerpt of human chromosome 1?  (Don't consider reverse complements.)"
      ],
      "metadata": {
        "id": "brACGFBOsytA"
      }
    },
    {
      "cell_type": "code",
      "source": [
        "p = 'GATTTACCAGATTGAG'\n",
        "t = genome\n",
        "#print(editDistance(p, t))\n",
        "print(bestApproximateMatchEditDistance(p, t))"
      ],
      "metadata": {
        "colab": {
          "base_uri": "https://localhost:8080/"
        },
        "id": "sMEPvgdfs2Uc",
        "outputId": "c4c3cef2-1edd-4961-e008-3b1c1a352d85"
      },
      "execution_count": 22,
      "outputs": [
        {
          "output_type": "stream",
          "name": "stdout",
          "text": [
            "2\n"
          ]
        }
      ]
    },
    {
      "cell_type": "markdown",
      "source": [
        "##### In a practical, we saw a function for finding the longest exact overlap (suffix/prefix match) between two strings. The function is copied below."
      ],
      "metadata": {
        "id": "pjxoDqBBtKrC"
      }
    },
    {
      "cell_type": "code",
      "source": [
        "def overlap(a, b, min_length=3):\n",
        "    \"\"\" Return length of longest suffix of 'a' matching\n",
        "        a prefix of 'b' that is at least 'min_length'\n",
        "        characters long.  If no such overlap exists,\n",
        "        return 0. \"\"\"\n",
        "    start = 0  # start all the way at the left\n",
        "    while True:\n",
        "        start = a.find(b[:min_length], start)  # look for b's prefix in a\n",
        "        if start == -1:  # no more occurrences to right\n",
        "            return 0\n",
        "        # found occurrence; check for full suffix/prefix match\n",
        "        if b.startswith(a[start:]):\n",
        "            return len(a)-start\n",
        "        start += 1  # move just past previous match"
      ],
      "metadata": {
        "id": "Czve6U_etM6F"
      },
      "execution_count": 6,
      "outputs": []
    },
    {
      "cell_type": "markdown",
      "source": [
        "##### Download and parse the read sequences from the provided Phi-X FASTQ file. We'll just use their base sequences, so you can ignore read names and base qualities.  Also, no two reads in the FASTQ have the same sequence of bases.  This makes things simpler."
      ],
      "metadata": {
        "id": "drwsephftQR_"
      }
    },
    {
      "cell_type": "code",
      "source": [
        "!wget --no-check https://d28rh4a8wq0iu5.cloudfront.net/ads1/data/ERR266411_1.for_asm.fastq"
      ],
      "metadata": {
        "colab": {
          "base_uri": "https://localhost:8080/"
        },
        "id": "K6LAXaRkuLcN",
        "outputId": "e79af7e8-69b1-4784-f4c0-7a4c7a0276e8"
      },
      "execution_count": 7,
      "outputs": [
        {
          "output_type": "stream",
          "name": "stdout",
          "text": [
            "--2023-12-22 08:51:21--  https://d28rh4a8wq0iu5.cloudfront.net/ads1/data/ERR266411_1.for_asm.fastq\n",
            "Resolving d28rh4a8wq0iu5.cloudfront.net (d28rh4a8wq0iu5.cloudfront.net)... 54.230.209.231, 54.230.209.99, 54.230.209.53, ...\n",
            "Connecting to d28rh4a8wq0iu5.cloudfront.net (d28rh4a8wq0iu5.cloudfront.net)|54.230.209.231|:443... connected.\n",
            "HTTP request sent, awaiting response... 200 OK\n",
            "Length: 2562951 (2.4M) [application/octet-stream]\n",
            "Saving to: ‘ERR266411_1.for_asm.fastq’\n",
            "\n",
            "ERR266411_1.for_asm 100%[===================>]   2.44M  --.-KB/s    in 0.08s   \n",
            "\n",
            "2023-12-22 08:51:21 (32.0 MB/s) - ‘ERR266411_1.for_asm.fastq’ saved [2562951/2562951]\n",
            "\n"
          ]
        }
      ]
    },
    {
      "cell_type": "code",
      "source": [
        "def readFastq(filename):\n",
        "    sequences = []\n",
        "    qualities = []\n",
        "    with open(filename) as fh:\n",
        "        while True:\n",
        "            fh.readline()  # skip name line\n",
        "            seq = fh.readline().rstrip()  # read base sequence\n",
        "            fh.readline()  # skip placeholder line\n",
        "            qual = fh.readline().rstrip() # base quality line\n",
        "            if len(seq) == 0:\n",
        "                break\n",
        "            sequences.append(seq)\n",
        "            qualities.append(qual)\n",
        "    return sequences, qualities"
      ],
      "metadata": {
        "id": "P969MLskvExm"
      },
      "execution_count": 10,
      "outputs": []
    },
    {
      "cell_type": "code",
      "source": [
        "reads, _ = readFastq('ERR266411_1.for_asm.fastq')"
      ],
      "metadata": {
        "id": "P2Rkoy8ZvoYW"
      },
      "execution_count": 13,
      "outputs": []
    },
    {
      "cell_type": "markdown",
      "source": [
        "##### Q3: Next, find all pairs of reads with an exact suffix/prefix match of length at least 30. Don't overlap a read with itself; if a read has a suffix/prefix match to itself, ignore that match.  Ignore reverse complements.\n",
        "\n",
        "##### Hint 1: Your function should not take much more than 15 seconds to run on this 10,000-read dataset, and maybe much less than that.  (Our solution takes about 3 seconds.) If your function is much slower, there is a problem somewhere.\n",
        "\n",
        "##### Hint 2: Remember not to overlap a read with itself. If you do, your answers will be too high.\n",
        "\n",
        "##### Hint 3: You can test your implementation by making up small examples, then checking that (a) your implementation runs quickly, and (b) you get the same answer as if you had simply called overlap(a, b, min_length=k)on every pair of reads"
      ],
      "metadata": {
        "id": "TSKrk6VeurWM"
      }
    },
    {
      "cell_type": "code",
      "source": [
        "def smart_overlap_map(reads, k):\n",
        "    olaps = {}\n",
        "    result = {}\n",
        "    for read in reads:\n",
        "        for i in range(len(read)-k+1):\n",
        "            if read[i:i+k] not in olaps:\n",
        "                olaps[read[i:i+k]] = [read]\n",
        "            else:\n",
        "                olaps[read[i:i+k]].append(read)\n",
        "\n",
        "    count = 0\n",
        "    for read in reads:\n",
        "        read_suffix = read[-k:]\n",
        "        for possible_read in olaps[read_suffix]:\n",
        "            if possible_read != read:\n",
        "                olen = overlap(read, possible_read, k)\n",
        "                if olen > 0:\n",
        "                    count += 1\n",
        "                    result[(read, possible_read)] = olen\n",
        "\n",
        "    return result, count"
      ],
      "metadata": {
        "id": "WrNh2Jwpuv47"
      },
      "execution_count": 14,
      "outputs": []
    },
    {
      "cell_type": "code",
      "source": [
        "_, pairs_count = smart_overlap_map(reads, 30)\n",
        "print(pairs_count)"
      ],
      "metadata": {
        "colab": {
          "base_uri": "https://localhost:8080/"
        },
        "id": "ifMjKABLwDn9",
        "outputId": "07ed96d2-cb38-4cda-b34e-7d885e9aa22f"
      },
      "execution_count": 15,
      "outputs": [
        {
          "output_type": "stream",
          "name": "stdout",
          "text": [
            "904746\n"
          ]
        }
      ]
    },
    {
      "cell_type": "markdown",
      "source": [
        "##### Q4: Picture the overlap graph corresponding to the overlaps computed for the previous question. How many nodes in this graph have at least one outgoing edge?  (In other words, how many reads have a suffix involved in an overlap?)"
      ],
      "metadata": {
        "id": "1sBX9tDPwsX7"
      }
    },
    {
      "cell_type": "code",
      "source": [
        "pairs_olen, _ = smart_overlap_map(reads, 30)\n",
        "reads_involved = []\n",
        "for key, value in pairs_olen:\n",
        "    reads_involved.append(key)\n",
        "print(\"Number of reads have a suffix involved in an overlap:\", len(set(reads_involved)))"
      ],
      "metadata": {
        "colab": {
          "base_uri": "https://localhost:8080/"
        },
        "id": "pOJKzo8IwuzP",
        "outputId": "fd617cf2-82d2-4cd7-f2cb-c6c3f627fe9a"
      },
      "execution_count": 17,
      "outputs": [
        {
          "output_type": "stream",
          "name": "stdout",
          "text": [
            "Number of reads have a suffix involved in an overlap: 7161\n"
          ]
        }
      ]
    }
  ]
}